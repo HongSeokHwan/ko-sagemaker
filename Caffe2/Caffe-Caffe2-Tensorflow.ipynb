{
 "cells": [
  {
   "cell_type": "markdown",
   "metadata": {},
   "source": [
    "# Caffe, Caffe2 Research\n",
    "---"
   ]
  },
  {
   "cell_type": "markdown",
   "metadata": {},
   "source": [
    "## Deep learning framework timeline\n",
    "  \n",
    "  \n",
    "![time_line](http://www.popit.kr/wp-content/uploads/2017/05/deeplearning_fw_timeline1.png)"
   ]
  },
  {
   "cell_type": "markdown",
   "metadata": {},
   "source": [
    "## Caffe\n",
    "\n",
    "### 특징\n",
    "1. CNN Model 생성에 특화되어 있음.  \n",
    " * 반대로 이야기하면 General하지 못함(Speech, Text Data등).\n",
    " * Caffe2에서는 CNN을 넘어서 General한 Model 생성을 Motive로 개발됨.\n",
    "2. Protobuf로 Model 정의."
   ]
  },
  {
   "cell_type": "markdown",
   "metadata": {},
   "source": [
    "## Caffe vs Tensorflow model define\n",
    "\n",
    "\n",
    "![tensorflow_define](https://image.slidesharecdn.com/aidentify-170501003006/95/-49-1024.jpg?cb=1493598757)\n",
    "![caffe_define](https://image.slidesharecdn.com/aidentify-170501003006/95/-43-638.jpg?cb=1493598757)"
   ]
  },
  {
   "cell_type": "markdown",
   "metadata": {},
   "source": [
    "# Caffe2 vs Tensorflow\n",
    "<br>\n",
    "<br>\n",
    "## 1. speed\n",
    "![speed](../docs/assets/caffe_vs_tensorflow/time.png)\n",
    "<br>\n",
    "<br>\n",
    "## 2. memory space\n",
    "![memory](../docs/assets/caffe_vs_tensorflow/memory.png)\n",
    "<br>\n",
    "출처: http://cs242.stanford.edu/assets/projects/2017/liubaige-xzang.pdf"
   ]
  },
  {
   "cell_type": "markdown",
   "metadata": {},
   "source": [
    "# Caffe2 Basic Concepts\n",
    "---"
   ]
  },
  {
   "cell_type": "markdown",
   "metadata": {},
   "source": [
    "## Concept\n",
    "Caffe2 기본 컨셉에 대해 살펴보기 전에 이해를 돕기 위해 Tensorflow와 비교해보도록 하겠습니다. \n",
    "![concept](../docs/assets/caffe_vs_tensorflow/concept.png)\n",
    "출처: http://cs242.stanford.edu/assets/projects/2017/liubaige-xzang.pdf"
   ]
  },
  {
   "cell_type": "code",
   "execution_count": 23,
   "metadata": {},
   "outputs": [],
   "source": [
    "from __future__ import absolute_import\n",
    "from __future__ import division\n",
    "from __future__ import print_function\n",
    "from __future__ import unicode_literals\n",
    "\n",
    "# We'll also import a few standard python libraries\n",
    "from matplotlib import pyplot\n",
    "import numpy as np\n",
    "import time\n",
    "\n",
    "# These are the droids you are looking for.\n",
    "from caffe2.python import core, workspace\n",
    "from caffe2.proto import caffe2_pb2\n",
    "\n",
    "# Let's show all plots inline.\n",
    "%matplotlib inline"
   ]
  },
  {
   "cell_type": "markdown",
   "metadata": {},
   "source": [
    "## Blobs\n",
    "named chunk of **data** in memory<br>\n",
    "which contains **tensor** (n-dimensional memory)\n"
   ]
  },
  {
   "cell_type": "markdown",
   "metadata": {
    "collapsed": true
   },
   "source": [
    "## Workspaces\n",
    "workspace consists of blobs"
   ]
  },
  {
   "cell_type": "markdown",
   "metadata": {},
   "source": [
    "`FeedBlob()` 을 통해서 blob을 workspace에 feed해 보겠습니다."
   ]
  },
  {
   "cell_type": "code",
   "execution_count": 24,
   "metadata": {},
   "outputs": [
    {
     "data": {
      "text/plain": [
       "True"
      ]
     },
     "execution_count": 24,
     "metadata": {},
     "output_type": "execute_result"
    }
   ],
   "source": [
    "X = np.random.randn(2, 3).astype(np.float32)\n",
    "workspace.FeedBlob(\"X\", X)"
   ]
  },
  {
   "cell_type": "markdown",
   "metadata": {},
   "source": [
    "Feed한 blob을 살펴보겠습니다."
   ]
  },
  {
   "cell_type": "code",
   "execution_count": 25,
   "metadata": {
    "scrolled": true
   },
   "outputs": [
    {
     "name": "stdout",
     "output_type": "stream",
     "text": [
      "Current blobs in the workspace: ['W', 'X', 'Y', 'b']\n",
      "Fetched X:\n",
      "[[ 0.8045713   0.04424965  1.511903  ]\n",
      " [-0.15851787 -0.6739198   0.91615844]]\n"
     ]
    }
   ],
   "source": [
    "print(\"Current blobs in the workspace: {}\".format(workspace.Blobs()))\n",
    "print(\"Fetched X:\\n{}\".format(workspace.FetchBlob(\"X\")))"
   ]
  },
  {
   "cell_type": "markdown",
   "metadata": {},
   "source": [
    "## Nets\n",
    "\n",
    "Nets are **computation graphs**.\n"
   ]
  },
  {
   "cell_type": "markdown",
   "metadata": {},
   "source": [
    "Network를 생성할때 연관된 Protocol buffer는 비어있는 상태입니다."
   ]
  },
  {
   "cell_type": "code",
   "execution_count": 26,
   "metadata": {
    "scrolled": false
   },
   "outputs": [
    {
     "name": "stdout",
     "output_type": "stream",
     "text": [
      "Current network proto:\n",
      "\n",
      "name: \"test_net_1\"\n",
      "\n"
     ]
    }
   ],
   "source": [
    "net = core.Net(\"test_net\")\n",
    "print(\"Current network proto:\\n\\n{}\".format(net.Proto()))"
   ]
  },
  {
   "cell_type": "markdown",
   "metadata": {},
   "source": [
    "GaussianFill을 사용한 Random Data를 채운 Blob을 생성하게 보겠습니다.\n",
    "\n",
    "## q-Gaussian distribution\n",
    "![gaussian](https://upload.wikimedia.org/wikipedia/commons/thumb/3/35/The_PDF_of_QGaussian.svg/488px-The_PDF_of_QGaussian.svg.png)"
   ]
  },
  {
   "cell_type": "code",
   "execution_count": 27,
   "metadata": {
    "scrolled": true
   },
   "outputs": [
    {
     "name": "stdout",
     "output_type": "stream",
     "text": [
      "New network proto:\n",
      "\n",
      "name: \"test_net_1\"\n",
      "op {\n",
      "  output: \"X\"\n",
      "  name: \"\"\n",
      "  type: \"GaussianFill\"\n",
      "  arg {\n",
      "    name: \"mean\"\n",
      "    f: 0.0\n",
      "  }\n",
      "  arg {\n",
      "    name: \"std\"\n",
      "    f: 1.0\n",
      "  }\n",
      "  arg {\n",
      "    name: \"shape\"\n",
      "    ints: 2\n",
      "    ints: 3\n",
      "  }\n",
      "  arg {\n",
      "    name: \"run_once\"\n",
      "    i: 0\n",
      "  }\n",
      "  debug_info: \"  File \\\"/Users/yoyota/anaconda3/envs/caffe2_py36/lib/python3.6/runpy.py\\\", line 193, in _run_module_as_main\\n    \\\"__main__\\\", mod_spec)\\n  File \\\"/Users/yoyota/anaconda3/envs/caffe2_py36/lib/python3.6/runpy.py\\\", line 85, in _run_code\\n    exec(code, run_globals)\\n  File \\\"/Users/yoyota/anaconda3/envs/caffe2_py36/lib/python3.6/site-packages/ipykernel_launcher.py\\\", line 16, in <module>\\n    app.launch_new_instance()\\n  File \\\"/Users/yoyota/anaconda3/envs/caffe2_py36/lib/python3.6/site-packages/traitlets/config/application.py\\\", line 658, in launch_instance\\n    app.start()\\n  File \\\"/Users/yoyota/anaconda3/envs/caffe2_py36/lib/python3.6/site-packages/ipykernel/kernelapp.py\\\", line 478, in start\\n    self.io_loop.start()\\n  File \\\"/Users/yoyota/anaconda3/envs/caffe2_py36/lib/python3.6/site-packages/zmq/eventloop/ioloop.py\\\", line 177, in start\\n    super(ZMQIOLoop, self).start()\\n  File \\\"/Users/yoyota/anaconda3/envs/caffe2_py36/lib/python3.6/site-packages/tornado/ioloop.py\\\", line 888, in start\\n    handler_func(fd_obj, events)\\n  File \\\"/Users/yoyota/anaconda3/envs/caffe2_py36/lib/python3.6/site-packages/tornado/stack_context.py\\\", line 277, in null_wrapper\\n    return fn(*args, **kwargs)\\n  File \\\"/Users/yoyota/anaconda3/envs/caffe2_py36/lib/python3.6/site-packages/zmq/eventloop/zmqstream.py\\\", line 440, in _handle_events\\n    self._handle_recv()\\n  File \\\"/Users/yoyota/anaconda3/envs/caffe2_py36/lib/python3.6/site-packages/zmq/eventloop/zmqstream.py\\\", line 472, in _handle_recv\\n    self._run_callback(callback, msg)\\n  File \\\"/Users/yoyota/anaconda3/envs/caffe2_py36/lib/python3.6/site-packages/zmq/eventloop/zmqstream.py\\\", line 414, in _run_callback\\n    callback(*args, **kwargs)\\n  File \\\"/Users/yoyota/anaconda3/envs/caffe2_py36/lib/python3.6/site-packages/tornado/stack_context.py\\\", line 277, in null_wrapper\\n    return fn(*args, **kwargs)\\n  File \\\"/Users/yoyota/anaconda3/envs/caffe2_py36/lib/python3.6/site-packages/ipykernel/kernelbase.py\\\", line 283, in dispatcher\\n    return self.dispatch_shell(stream, msg)\\n  File \\\"/Users/yoyota/anaconda3/envs/caffe2_py36/lib/python3.6/site-packages/ipykernel/kernelbase.py\\\", line 233, in dispatch_shell\\n    handler(stream, idents, msg)\\n  File \\\"/Users/yoyota/anaconda3/envs/caffe2_py36/lib/python3.6/site-packages/ipykernel/kernelbase.py\\\", line 399, in execute_request\\n    user_expressions, allow_stdin)\\n  File \\\"/Users/yoyota/anaconda3/envs/caffe2_py36/lib/python3.6/site-packages/ipykernel/ipkernel.py\\\", line 208, in do_execute\\n    res = shell.run_cell(code, store_history=store_history, silent=silent)\\n  File \\\"/Users/yoyota/anaconda3/envs/caffe2_py36/lib/python3.6/site-packages/ipykernel/zmqshell.py\\\", line 537, in run_cell\\n    return super(ZMQInteractiveShell, self).run_cell(*args, **kwargs)\\n  File \\\"/Users/yoyota/anaconda3/envs/caffe2_py36/lib/python3.6/site-packages/IPython/core/interactiveshell.py\\\", line 2662, in run_cell\\n    raw_cell, store_history, silent, shell_futures)\\n  File \\\"/Users/yoyota/anaconda3/envs/caffe2_py36/lib/python3.6/site-packages/IPython/core/interactiveshell.py\\\", line 2785, in _run_cell\\n    interactivity=interactivity, compiler=compiler, result=result)\\n  File \\\"/Users/yoyota/anaconda3/envs/caffe2_py36/lib/python3.6/site-packages/IPython/core/interactiveshell.py\\\", line 2903, in run_ast_nodes\\n    if self.run_code(code, result):\\n  File \\\"/Users/yoyota/anaconda3/envs/caffe2_py36/lib/python3.6/site-packages/IPython/core/interactiveshell.py\\\", line 2963, in run_code\\n    exec(code_obj, self.user_global_ns, self.user_ns)\\n  File \\\"<ipython-input-27-453a44c43b56>\\\", line 1, in <module>\\n    X = net.GaussianFill([], [\\\"X\\\"], mean=0.0, std=1.0, shape=[2, 3], run_once=0)\\n  File \\\"/Users/yoyota/anaconda3/envs/caffe2_py36/lib/python3.6/site-packages/caffe2/python/core.py\\\", line 2047, in <lambda>\\n    op_type, *args, **kwargs)\\n  File \\\"/Users/yoyota/anaconda3/envs/caffe2_py36/lib/python3.6/site-packages/caffe2/python/core.py\\\", line 2024, in _CreateAndAddToSelf\\n    op = CreateOperator(op_type, inputs, outputs, **kwargs)\\n\"\n",
      "}\n",
      "\n"
     ]
    }
   ],
   "source": [
    "X = net.GaussianFill([], [\"X\"], mean=0.0, std=1.0, shape=[2, 3], run_once=0)\n",
    "print(\"New network proto:\\n\\n{}\".format(net.Proto()))"
   ]
  },
  {
   "cell_type": "markdown",
   "metadata": {},
   "source": [
    "## Operator\n",
    "Fully Connected Layer를 사용해 보겠습니다."
   ]
  },
  {
   "cell_type": "code",
   "execution_count": 28,
   "metadata": {},
   "outputs": [],
   "source": [
    "W = net.GaussianFill([], [\"W\"], mean=0.0, std=1.0, shape=[5, 3], run_once=0)\n",
    "b = net.ConstantFill([], [\"b\"], shape=[5,], value=1.0, run_once=0)"
   ]
  },
  {
   "cell_type": "code",
   "execution_count": 29,
   "metadata": {},
   "outputs": [],
   "source": [
    "Y = X.FC([W, b], [\"Y\"])"
   ]
  },
  {
   "cell_type": "code",
   "execution_count": 30,
   "metadata": {},
   "outputs": [
    {
     "name": "stdout",
     "output_type": "stream",
     "text": [
      "Current network proto:\n",
      "\n",
      "name: \"test_net_1\"\n",
      "op {\n",
      "  output: \"X\"\n",
      "  name: \"\"\n",
      "  type: \"GaussianFill\"\n",
      "  arg {\n",
      "    name: \"mean\"\n",
      "    f: 0.0\n",
      "  }\n",
      "  arg {\n",
      "    name: \"std\"\n",
      "    f: 1.0\n",
      "  }\n",
      "  arg {\n",
      "    name: \"shape\"\n",
      "    ints: 2\n",
      "    ints: 3\n",
      "  }\n",
      "  arg {\n",
      "    name: \"run_once\"\n",
      "    i: 0\n",
      "  }\n",
      "  debug_info: \"  File \\\"/Users/yoyota/anaconda3/envs/caffe2_py36/lib/python3.6/runpy.py\\\", line 193, in _run_module_as_main\\n    \\\"__main__\\\", mod_spec)\\n  File \\\"/Users/yoyota/anaconda3/envs/caffe2_py36/lib/python3.6/runpy.py\\\", line 85, in _run_code\\n    exec(code, run_globals)\\n  File \\\"/Users/yoyota/anaconda3/envs/caffe2_py36/lib/python3.6/site-packages/ipykernel_launcher.py\\\", line 16, in <module>\\n    app.launch_new_instance()\\n  File \\\"/Users/yoyota/anaconda3/envs/caffe2_py36/lib/python3.6/site-packages/traitlets/config/application.py\\\", line 658, in launch_instance\\n    app.start()\\n  File \\\"/Users/yoyota/anaconda3/envs/caffe2_py36/lib/python3.6/site-packages/ipykernel/kernelapp.py\\\", line 478, in start\\n    self.io_loop.start()\\n  File \\\"/Users/yoyota/anaconda3/envs/caffe2_py36/lib/python3.6/site-packages/zmq/eventloop/ioloop.py\\\", line 177, in start\\n    super(ZMQIOLoop, self).start()\\n  File \\\"/Users/yoyota/anaconda3/envs/caffe2_py36/lib/python3.6/site-packages/tornado/ioloop.py\\\", line 888, in start\\n    handler_func(fd_obj, events)\\n  File \\\"/Users/yoyota/anaconda3/envs/caffe2_py36/lib/python3.6/site-packages/tornado/stack_context.py\\\", line 277, in null_wrapper\\n    return fn(*args, **kwargs)\\n  File \\\"/Users/yoyota/anaconda3/envs/caffe2_py36/lib/python3.6/site-packages/zmq/eventloop/zmqstream.py\\\", line 440, in _handle_events\\n    self._handle_recv()\\n  File \\\"/Users/yoyota/anaconda3/envs/caffe2_py36/lib/python3.6/site-packages/zmq/eventloop/zmqstream.py\\\", line 472, in _handle_recv\\n    self._run_callback(callback, msg)\\n  File \\\"/Users/yoyota/anaconda3/envs/caffe2_py36/lib/python3.6/site-packages/zmq/eventloop/zmqstream.py\\\", line 414, in _run_callback\\n    callback(*args, **kwargs)\\n  File \\\"/Users/yoyota/anaconda3/envs/caffe2_py36/lib/python3.6/site-packages/tornado/stack_context.py\\\", line 277, in null_wrapper\\n    return fn(*args, **kwargs)\\n  File \\\"/Users/yoyota/anaconda3/envs/caffe2_py36/lib/python3.6/site-packages/ipykernel/kernelbase.py\\\", line 283, in dispatcher\\n    return self.dispatch_shell(stream, msg)\\n  File \\\"/Users/yoyota/anaconda3/envs/caffe2_py36/lib/python3.6/site-packages/ipykernel/kernelbase.py\\\", line 233, in dispatch_shell\\n    handler(stream, idents, msg)\\n  File \\\"/Users/yoyota/anaconda3/envs/caffe2_py36/lib/python3.6/site-packages/ipykernel/kernelbase.py\\\", line 399, in execute_request\\n    user_expressions, allow_stdin)\\n  File \\\"/Users/yoyota/anaconda3/envs/caffe2_py36/lib/python3.6/site-packages/ipykernel/ipkernel.py\\\", line 208, in do_execute\\n    res = shell.run_cell(code, store_history=store_history, silent=silent)\\n  File \\\"/Users/yoyota/anaconda3/envs/caffe2_py36/lib/python3.6/site-packages/ipykernel/zmqshell.py\\\", line 537, in run_cell\\n    return super(ZMQInteractiveShell, self).run_cell(*args, **kwargs)\\n  File \\\"/Users/yoyota/anaconda3/envs/caffe2_py36/lib/python3.6/site-packages/IPython/core/interactiveshell.py\\\", line 2662, in run_cell\\n    raw_cell, store_history, silent, shell_futures)\\n  File \\\"/Users/yoyota/anaconda3/envs/caffe2_py36/lib/python3.6/site-packages/IPython/core/interactiveshell.py\\\", line 2785, in _run_cell\\n    interactivity=interactivity, compiler=compiler, result=result)\\n  File \\\"/Users/yoyota/anaconda3/envs/caffe2_py36/lib/python3.6/site-packages/IPython/core/interactiveshell.py\\\", line 2903, in run_ast_nodes\\n    if self.run_code(code, result):\\n  File \\\"/Users/yoyota/anaconda3/envs/caffe2_py36/lib/python3.6/site-packages/IPython/core/interactiveshell.py\\\", line 2963, in run_code\\n    exec(code_obj, self.user_global_ns, self.user_ns)\\n  File \\\"<ipython-input-27-453a44c43b56>\\\", line 1, in <module>\\n    X = net.GaussianFill([], [\\\"X\\\"], mean=0.0, std=1.0, shape=[2, 3], run_once=0)\\n  File \\\"/Users/yoyota/anaconda3/envs/caffe2_py36/lib/python3.6/site-packages/caffe2/python/core.py\\\", line 2047, in <lambda>\\n    op_type, *args, **kwargs)\\n  File \\\"/Users/yoyota/anaconda3/envs/caffe2_py36/lib/python3.6/site-packages/caffe2/python/core.py\\\", line 2024, in _CreateAndAddToSelf\\n    op = CreateOperator(op_type, inputs, outputs, **kwargs)\\n\"\n",
      "}\n",
      "op {\n",
      "  output: \"W\"\n",
      "  name: \"\"\n",
      "  type: \"GaussianFill\"\n",
      "  arg {\n",
      "    name: \"mean\"\n",
      "    f: 0.0\n",
      "  }\n",
      "  arg {\n",
      "    name: \"std\"\n",
      "    f: 1.0\n",
      "  }\n",
      "  arg {\n",
      "    name: \"shape\"\n",
      "    ints: 5\n",
      "    ints: 3\n",
      "  }\n",
      "  arg {\n",
      "    name: \"run_once\"\n",
      "    i: 0\n",
      "  }\n",
      "  debug_info: \"  File \\\"/Users/yoyota/anaconda3/envs/caffe2_py36/lib/python3.6/runpy.py\\\", line 193, in _run_module_as_main\\n    \\\"__main__\\\", mod_spec)\\n  File \\\"/Users/yoyota/anaconda3/envs/caffe2_py36/lib/python3.6/runpy.py\\\", line 85, in _run_code\\n    exec(code, run_globals)\\n  File \\\"/Users/yoyota/anaconda3/envs/caffe2_py36/lib/python3.6/site-packages/ipykernel_launcher.py\\\", line 16, in <module>\\n    app.launch_new_instance()\\n  File \\\"/Users/yoyota/anaconda3/envs/caffe2_py36/lib/python3.6/site-packages/traitlets/config/application.py\\\", line 658, in launch_instance\\n    app.start()\\n  File \\\"/Users/yoyota/anaconda3/envs/caffe2_py36/lib/python3.6/site-packages/ipykernel/kernelapp.py\\\", line 478, in start\\n    self.io_loop.start()\\n  File \\\"/Users/yoyota/anaconda3/envs/caffe2_py36/lib/python3.6/site-packages/zmq/eventloop/ioloop.py\\\", line 177, in start\\n    super(ZMQIOLoop, self).start()\\n  File \\\"/Users/yoyota/anaconda3/envs/caffe2_py36/lib/python3.6/site-packages/tornado/ioloop.py\\\", line 888, in start\\n    handler_func(fd_obj, events)\\n  File \\\"/Users/yoyota/anaconda3/envs/caffe2_py36/lib/python3.6/site-packages/tornado/stack_context.py\\\", line 277, in null_wrapper\\n    return fn(*args, **kwargs)\\n  File \\\"/Users/yoyota/anaconda3/envs/caffe2_py36/lib/python3.6/site-packages/zmq/eventloop/zmqstream.py\\\", line 440, in _handle_events\\n    self._handle_recv()\\n  File \\\"/Users/yoyota/anaconda3/envs/caffe2_py36/lib/python3.6/site-packages/zmq/eventloop/zmqstream.py\\\", line 472, in _handle_recv\\n    self._run_callback(callback, msg)\\n  File \\\"/Users/yoyota/anaconda3/envs/caffe2_py36/lib/python3.6/site-packages/zmq/eventloop/zmqstream.py\\\", line 414, in _run_callback\\n    callback(*args, **kwargs)\\n  File \\\"/Users/yoyota/anaconda3/envs/caffe2_py36/lib/python3.6/site-packages/tornado/stack_context.py\\\", line 277, in null_wrapper\\n    return fn(*args, **kwargs)\\n  File \\\"/Users/yoyota/anaconda3/envs/caffe2_py36/lib/python3.6/site-packages/ipykernel/kernelbase.py\\\", line 283, in dispatcher\\n    return self.dispatch_shell(stream, msg)\\n  File \\\"/Users/yoyota/anaconda3/envs/caffe2_py36/lib/python3.6/site-packages/ipykernel/kernelbase.py\\\", line 233, in dispatch_shell\\n    handler(stream, idents, msg)\\n  File \\\"/Users/yoyota/anaconda3/envs/caffe2_py36/lib/python3.6/site-packages/ipykernel/kernelbase.py\\\", line 399, in execute_request\\n    user_expressions, allow_stdin)\\n  File \\\"/Users/yoyota/anaconda3/envs/caffe2_py36/lib/python3.6/site-packages/ipykernel/ipkernel.py\\\", line 208, in do_execute\\n    res = shell.run_cell(code, store_history=store_history, silent=silent)\\n  File \\\"/Users/yoyota/anaconda3/envs/caffe2_py36/lib/python3.6/site-packages/ipykernel/zmqshell.py\\\", line 537, in run_cell\\n    return super(ZMQInteractiveShell, self).run_cell(*args, **kwargs)\\n  File \\\"/Users/yoyota/anaconda3/envs/caffe2_py36/lib/python3.6/site-packages/IPython/core/interactiveshell.py\\\", line 2662, in run_cell\\n    raw_cell, store_history, silent, shell_futures)\\n  File \\\"/Users/yoyota/anaconda3/envs/caffe2_py36/lib/python3.6/site-packages/IPython/core/interactiveshell.py\\\", line 2785, in _run_cell\\n    interactivity=interactivity, compiler=compiler, result=result)\\n  File \\\"/Users/yoyota/anaconda3/envs/caffe2_py36/lib/python3.6/site-packages/IPython/core/interactiveshell.py\\\", line 2903, in run_ast_nodes\\n    if self.run_code(code, result):\\n  File \\\"/Users/yoyota/anaconda3/envs/caffe2_py36/lib/python3.6/site-packages/IPython/core/interactiveshell.py\\\", line 2963, in run_code\\n    exec(code_obj, self.user_global_ns, self.user_ns)\\n  File \\\"<ipython-input-28-d24919ed76fb>\\\", line 1, in <module>\\n    W = net.GaussianFill([], [\\\"W\\\"], mean=0.0, std=1.0, shape=[5, 3], run_once=0)\\n  File \\\"/Users/yoyota/anaconda3/envs/caffe2_py36/lib/python3.6/site-packages/caffe2/python/core.py\\\", line 2047, in <lambda>\\n    op_type, *args, **kwargs)\\n  File \\\"/Users/yoyota/anaconda3/envs/caffe2_py36/lib/python3.6/site-packages/caffe2/python/core.py\\\", line 2024, in _CreateAndAddToSelf\\n    op = CreateOperator(op_type, inputs, outputs, **kwargs)\\n\"\n",
      "}\n",
      "op {\n",
      "  output: \"b\"\n",
      "  name: \"\"\n",
      "  type: \"ConstantFill\"\n",
      "  arg {\n",
      "    name: \"shape\"\n",
      "    ints: 5\n",
      "  }\n",
      "  arg {\n",
      "    name: \"value\"\n",
      "    f: 1.0\n",
      "  }\n",
      "  arg {\n",
      "    name: \"run_once\"\n",
      "    i: 0\n",
      "  }\n",
      "  debug_info: \"  File \\\"/Users/yoyota/anaconda3/envs/caffe2_py36/lib/python3.6/runpy.py\\\", line 193, in _run_module_as_main\\n    \\\"__main__\\\", mod_spec)\\n  File \\\"/Users/yoyota/anaconda3/envs/caffe2_py36/lib/python3.6/runpy.py\\\", line 85, in _run_code\\n    exec(code, run_globals)\\n  File \\\"/Users/yoyota/anaconda3/envs/caffe2_py36/lib/python3.6/site-packages/ipykernel_launcher.py\\\", line 16, in <module>\\n    app.launch_new_instance()\\n  File \\\"/Users/yoyota/anaconda3/envs/caffe2_py36/lib/python3.6/site-packages/traitlets/config/application.py\\\", line 658, in launch_instance\\n    app.start()\\n  File \\\"/Users/yoyota/anaconda3/envs/caffe2_py36/lib/python3.6/site-packages/ipykernel/kernelapp.py\\\", line 478, in start\\n    self.io_loop.start()\\n  File \\\"/Users/yoyota/anaconda3/envs/caffe2_py36/lib/python3.6/site-packages/zmq/eventloop/ioloop.py\\\", line 177, in start\\n    super(ZMQIOLoop, self).start()\\n  File \\\"/Users/yoyota/anaconda3/envs/caffe2_py36/lib/python3.6/site-packages/tornado/ioloop.py\\\", line 888, in start\\n    handler_func(fd_obj, events)\\n  File \\\"/Users/yoyota/anaconda3/envs/caffe2_py36/lib/python3.6/site-packages/tornado/stack_context.py\\\", line 277, in null_wrapper\\n    return fn(*args, **kwargs)\\n  File \\\"/Users/yoyota/anaconda3/envs/caffe2_py36/lib/python3.6/site-packages/zmq/eventloop/zmqstream.py\\\", line 440, in _handle_events\\n    self._handle_recv()\\n  File \\\"/Users/yoyota/anaconda3/envs/caffe2_py36/lib/python3.6/site-packages/zmq/eventloop/zmqstream.py\\\", line 472, in _handle_recv\\n    self._run_callback(callback, msg)\\n  File \\\"/Users/yoyota/anaconda3/envs/caffe2_py36/lib/python3.6/site-packages/zmq/eventloop/zmqstream.py\\\", line 414, in _run_callback\\n    callback(*args, **kwargs)\\n  File \\\"/Users/yoyota/anaconda3/envs/caffe2_py36/lib/python3.6/site-packages/tornado/stack_context.py\\\", line 277, in null_wrapper\\n    return fn(*args, **kwargs)\\n  File \\\"/Users/yoyota/anaconda3/envs/caffe2_py36/lib/python3.6/site-packages/ipykernel/kernelbase.py\\\", line 283, in dispatcher\\n    return self.dispatch_shell(stream, msg)\\n  File \\\"/Users/yoyota/anaconda3/envs/caffe2_py36/lib/python3.6/site-packages/ipykernel/kernelbase.py\\\", line 233, in dispatch_shell\\n    handler(stream, idents, msg)\\n  File \\\"/Users/yoyota/anaconda3/envs/caffe2_py36/lib/python3.6/site-packages/ipykernel/kernelbase.py\\\", line 399, in execute_request\\n    user_expressions, allow_stdin)\\n  File \\\"/Users/yoyota/anaconda3/envs/caffe2_py36/lib/python3.6/site-packages/ipykernel/ipkernel.py\\\", line 208, in do_execute\\n    res = shell.run_cell(code, store_history=store_history, silent=silent)\\n  File \\\"/Users/yoyota/anaconda3/envs/caffe2_py36/lib/python3.6/site-packages/ipykernel/zmqshell.py\\\", line 537, in run_cell\\n    return super(ZMQInteractiveShell, self).run_cell(*args, **kwargs)\\n  File \\\"/Users/yoyota/anaconda3/envs/caffe2_py36/lib/python3.6/site-packages/IPython/core/interactiveshell.py\\\", line 2662, in run_cell\\n    raw_cell, store_history, silent, shell_futures)\\n  File \\\"/Users/yoyota/anaconda3/envs/caffe2_py36/lib/python3.6/site-packages/IPython/core/interactiveshell.py\\\", line 2785, in _run_cell\\n    interactivity=interactivity, compiler=compiler, result=result)\\n  File \\\"/Users/yoyota/anaconda3/envs/caffe2_py36/lib/python3.6/site-packages/IPython/core/interactiveshell.py\\\", line 2903, in run_ast_nodes\\n    if self.run_code(code, result):\\n  File \\\"/Users/yoyota/anaconda3/envs/caffe2_py36/lib/python3.6/site-packages/IPython/core/interactiveshell.py\\\", line 2963, in run_code\\n    exec(code_obj, self.user_global_ns, self.user_ns)\\n  File \\\"<ipython-input-28-d24919ed76fb>\\\", line 2, in <module>\\n    b = net.ConstantFill([], [\\\"b\\\"], shape=[5,], value=1.0, run_once=0)\\n  File \\\"/Users/yoyota/anaconda3/envs/caffe2_py36/lib/python3.6/site-packages/caffe2/python/core.py\\\", line 2047, in <lambda>\\n    op_type, *args, **kwargs)\\n  File \\\"/Users/yoyota/anaconda3/envs/caffe2_py36/lib/python3.6/site-packages/caffe2/python/core.py\\\", line 2024, in _CreateAndAddToSelf\\n    op = CreateOperator(op_type, inputs, outputs, **kwargs)\\n\"\n",
      "}\n",
      "op {\n",
      "  input: \"X\"\n",
      "  input: \"W\"\n",
      "  input: \"b\"\n",
      "  output: \"Y\"\n",
      "  name: \"\"\n",
      "  type: \"FC\"\n",
      "  debug_info: \"  File \\\"/Users/yoyota/anaconda3/envs/caffe2_py36/lib/python3.6/runpy.py\\\", line 193, in _run_module_as_main\\n    \\\"__main__\\\", mod_spec)\\n  File \\\"/Users/yoyota/anaconda3/envs/caffe2_py36/lib/python3.6/runpy.py\\\", line 85, in _run_code\\n    exec(code, run_globals)\\n  File \\\"/Users/yoyota/anaconda3/envs/caffe2_py36/lib/python3.6/site-packages/ipykernel_launcher.py\\\", line 16, in <module>\\n    app.launch_new_instance()\\n  File \\\"/Users/yoyota/anaconda3/envs/caffe2_py36/lib/python3.6/site-packages/traitlets/config/application.py\\\", line 658, in launch_instance\\n    app.start()\\n  File \\\"/Users/yoyota/anaconda3/envs/caffe2_py36/lib/python3.6/site-packages/ipykernel/kernelapp.py\\\", line 478, in start\\n    self.io_loop.start()\\n  File \\\"/Users/yoyota/anaconda3/envs/caffe2_py36/lib/python3.6/site-packages/zmq/eventloop/ioloop.py\\\", line 177, in start\\n    super(ZMQIOLoop, self).start()\\n  File \\\"/Users/yoyota/anaconda3/envs/caffe2_py36/lib/python3.6/site-packages/tornado/ioloop.py\\\", line 888, in start\\n    handler_func(fd_obj, events)\\n  File \\\"/Users/yoyota/anaconda3/envs/caffe2_py36/lib/python3.6/site-packages/tornado/stack_context.py\\\", line 277, in null_wrapper\\n    return fn(*args, **kwargs)\\n  File \\\"/Users/yoyota/anaconda3/envs/caffe2_py36/lib/python3.6/site-packages/zmq/eventloop/zmqstream.py\\\", line 440, in _handle_events\\n    self._handle_recv()\\n  File \\\"/Users/yoyota/anaconda3/envs/caffe2_py36/lib/python3.6/site-packages/zmq/eventloop/zmqstream.py\\\", line 472, in _handle_recv\\n    self._run_callback(callback, msg)\\n  File \\\"/Users/yoyota/anaconda3/envs/caffe2_py36/lib/python3.6/site-packages/zmq/eventloop/zmqstream.py\\\", line 414, in _run_callback\\n    callback(*args, **kwargs)\\n  File \\\"/Users/yoyota/anaconda3/envs/caffe2_py36/lib/python3.6/site-packages/tornado/stack_context.py\\\", line 277, in null_wrapper\\n    return fn(*args, **kwargs)\\n  File \\\"/Users/yoyota/anaconda3/envs/caffe2_py36/lib/python3.6/site-packages/ipykernel/kernelbase.py\\\", line 283, in dispatcher\\n    return self.dispatch_shell(stream, msg)\\n  File \\\"/Users/yoyota/anaconda3/envs/caffe2_py36/lib/python3.6/site-packages/ipykernel/kernelbase.py\\\", line 233, in dispatch_shell\\n    handler(stream, idents, msg)\\n  File \\\"/Users/yoyota/anaconda3/envs/caffe2_py36/lib/python3.6/site-packages/ipykernel/kernelbase.py\\\", line 399, in execute_request\\n    user_expressions, allow_stdin)\\n  File \\\"/Users/yoyota/anaconda3/envs/caffe2_py36/lib/python3.6/site-packages/ipykernel/ipkernel.py\\\", line 208, in do_execute\\n    res = shell.run_cell(code, store_history=store_history, silent=silent)\\n  File \\\"/Users/yoyota/anaconda3/envs/caffe2_py36/lib/python3.6/site-packages/ipykernel/zmqshell.py\\\", line 537, in run_cell\\n    return super(ZMQInteractiveShell, self).run_cell(*args, **kwargs)\\n  File \\\"/Users/yoyota/anaconda3/envs/caffe2_py36/lib/python3.6/site-packages/IPython/core/interactiveshell.py\\\", line 2662, in run_cell\\n    raw_cell, store_history, silent, shell_futures)\\n  File \\\"/Users/yoyota/anaconda3/envs/caffe2_py36/lib/python3.6/site-packages/IPython/core/interactiveshell.py\\\", line 2785, in _run_cell\\n    interactivity=interactivity, compiler=compiler, result=result)\\n  File \\\"/Users/yoyota/anaconda3/envs/caffe2_py36/lib/python3.6/site-packages/IPython/core/interactiveshell.py\\\", line 2903, in run_ast_nodes\\n    if self.run_code(code, result):\\n  File \\\"/Users/yoyota/anaconda3/envs/caffe2_py36/lib/python3.6/site-packages/IPython/core/interactiveshell.py\\\", line 2963, in run_code\\n    exec(code_obj, self.user_global_ns, self.user_ns)\\n  File \\\"<ipython-input-29-4cf7d3526101>\\\", line 1, in <module>\\n    Y = X.FC([W, b], [\\\"Y\\\"])\\n  File \\\"/Users/yoyota/anaconda3/envs/caffe2_py36/lib/python3.6/site-packages/caffe2/python/core.py\\\", line 251, in <lambda>\\n    op_type, *args, **kwargs)\\n  File \\\"/Users/yoyota/anaconda3/envs/caffe2_py36/lib/python3.6/site-packages/caffe2/python/core.py\\\", line 227, in _CreateAndAddToNet\\n    return self._from_net.__getattr__(op_type)(inputs, *args, **kwargs)\\n  File \\\"/Users/yoyota/anaconda3/envs/caffe2_py36/lib/python3.6/site-packages/caffe2/python/core.py\\\", line 2047, in <lambda>\\n    op_type, *args, **kwargs)\\n  File \\\"/Users/yoyota/anaconda3/envs/caffe2_py36/lib/python3.6/site-packages/caffe2/python/core.py\\\", line 2024, in _CreateAndAddToSelf\\n    op = CreateOperator(op_type, inputs, outputs, **kwargs)\\n\"\n",
      "}\n",
      "\n"
     ]
    }
   ],
   "source": [
    "print(\"Current network proto:\\n\\n{}\".format(net.Proto()))"
   ]
  },
  {
   "cell_type": "markdown",
   "metadata": {},
   "source": [
    "## model visualization"
   ]
  },
  {
   "cell_type": "code",
   "execution_count": 31,
   "metadata": {},
   "outputs": [
    {
     "data": {
      "image/png": "[encoded data removed]",
      "text/plain": [
       "<IPython.core.display.Image object>"
      ]
     },
     "execution_count": 31,
     "metadata": {
      "image/png": {
       "width": 800
      }
     },
     "output_type": "execute_result"
    }
   ],
   "source": [
    "from caffe2.python import net_drawer\n",
    "from IPython import display\n",
    "graph = net_drawer.GetPydotGraph(net, rankdir=\"LR\")\n",
    "display.Image(graph.create_png(), width=800)"
   ]
  },
  {
   "cell_type": "markdown",
   "metadata": {},
   "source": [
    "the net above is essentially a protobuf that holds the definition of the network. When we actually run the network, what happens under the hood is:\n",
    "- A C++ net object is instantiated from the protobuf\n",
    "- The instantiated net's Run() function is called  "
   ]
  },
  {
   "cell_type": "markdown",
   "metadata": {},
   "source": [
    "## 결과값"
   ]
  },
  {
   "cell_type": "code",
   "execution_count": 32,
   "metadata": {
    "scrolled": false
   },
   "outputs": [
    {
     "name": "stdout",
     "output_type": "stream",
     "text": [
      "Current blobs in the workspace: []\n",
      "Blobs in the workspace after execution: ['W', 'X', 'Y', 'b']\n",
      "W:\n",
      "[[-0.03243652  0.30797482  0.33739084]\n",
      " [-1.1140127  -0.31872427  0.96567816]\n",
      " [-0.48160875  0.6748931   1.1282337 ]\n",
      " [ 0.42430842  0.8523571  -0.7266397 ]\n",
      " [ 0.43736738  1.0576086  -0.25542414]]\n",
      "X:\n",
      "[[-0.26759478 -0.7682788   1.7358925 ]\n",
      " [ 0.5611609  -0.32269505 -0.5026339 ]]\n",
      "Y:\n",
      "[[ 1.3577435   3.2192867   2.5688624  -1.0297589  -0.37296438]\n",
      " [ 0.71283185 -0.00767231 -0.05513322  1.3282876   1.0325333 ]]\n",
      "b:\n",
      "[1. 1. 1. 1. 1.]\n"
     ]
    }
   ],
   "source": [
    "workspace.ResetWorkspace()\n",
    "print(\"Current blobs in the workspace: {}\".format(workspace.Blobs()))\n",
    "workspace.RunNetOnce(net)\n",
    "print(\"Blobs in the workspace after execution: {}\".format(workspace.Blobs()))\n",
    "# Let's dump the contents of the blobs\n",
    "for name in workspace.Blobs():\n",
    "    print(\"{}:\\n{}\".format(name, workspace.FetchBlob(name)))"
   ]
  },
  {
   "cell_type": "markdown",
   "metadata": {},
   "source": [
    "# 출처\n",
    "1. http://www.popit.kr/%EB%94%A5%EB%9F%AC%EB%8B%9D-%ED%94%84%EB%A0%88%EC%9E%84%EC%9B%8C%ED%81%AC-%EC%A1%B0%EC%82%AC%EC%99%80-%EB%AA%87%EA%B0%80%EC%A7%80-%ED%99%8D%EB%B3%B4/\n",
    "\n",
    "2. https://www.slideshare.net/JunyiSong1/ss-75552936\n",
    "\n",
    "3. https://caffe2.ai/docs/tutorials.html\n",
    "\n",
    "4. http://cs242.stanford.edu/assets/projects/2017/liubaige-xzang.pdf"
   ]
  }
 ],
 "metadata": {
  "kernelspec": {
   "display_name": "Python 3",
   "language": "python",
   "name": "python3"
  },
  "language_info": {
   "codemirror_mode": {
    "name": "ipython",
    "version": 3
   },
   "file_extension": ".py",
   "mimetype": "text/x-python",
   "name": "python",
   "nbconvert_exporter": "python",
   "pygments_lexer": "ipython3",
   "version": "3.6.4"
  }
 },
 "nbformat": 4,
 "nbformat_minor": 1
}
